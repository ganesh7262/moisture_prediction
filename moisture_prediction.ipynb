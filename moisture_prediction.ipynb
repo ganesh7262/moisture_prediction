{
  "cells": [
    {
      "cell_type": "code",
      "execution_count": 1,
      "metadata": {
        "id": "UjDqu0FX9c3d"
      },
      "outputs": [],
      "source": [
        "import numpy as np\n",
        "import pandas as pd\n",
        "import matplotlib.pyplot as plt\n",
        "import tensorflow as tf\n",
        "from tensorflow import keras\n",
        "import sklearn as sk"
      ]
    },
    {
      "cell_type": "code",
      "execution_count": 2,
      "metadata": {
        "colab": {
          "base_uri": "https://localhost:8080/"
        },
        "id": "yG_7VUp7BtkI",
        "outputId": "d7439ff6-b306-443c-ee5f-4a00319a8510"
      },
      "outputs": [
        {
          "name": "stdout",
          "output_type": "stream",
          "text": [
            "Num GPUs Available:  0\n"
          ]
        }
      ],
      "source": [
        "print(\"Num GPUs Available: \", len(tf.config.list_physical_devices('GPU')))"
      ]
    },
    {
      "cell_type": "code",
      "execution_count": 3,
      "metadata": {
        "colab": {
          "base_uri": "https://localhost:8080/",
          "height": 790
        },
        "id": "8tYvK1DK9c3e",
        "outputId": "1c0343ff-83ca-4018-aa1b-354e5cbb1ab3"
      },
      "outputs": [
        {
          "data": {
            "text/html": [
              "<div>\n",
              "<style scoped>\n",
              "    .dataframe tbody tr th:only-of-type {\n",
              "        vertical-align: middle;\n",
              "    }\n",
              "\n",
              "    .dataframe tbody tr th {\n",
              "        vertical-align: top;\n",
              "    }\n",
              "\n",
              "    .dataframe thead th {\n",
              "        text-align: right;\n",
              "    }\n",
              "</style>\n",
              "<table border=\"1\" class=\"dataframe\">\n",
              "  <thead>\n",
              "    <tr style=\"text-align: right;\">\n",
              "      <th></th>\n",
              "      <th>Date</th>\n",
              "      <th>Time</th>\n",
              "      <th>SM_2</th>\n",
              "      <th>SM_4</th>\n",
              "      <th>SM_8</th>\n",
              "      <th>SM_20</th>\n",
              "      <th>SM_40</th>\n",
              "      <th>ST_2</th>\n",
              "      <th>ST_4</th>\n",
              "      <th>ST_8</th>\n",
              "      <th>...</th>\n",
              "      <th>sealevelpressure</th>\n",
              "      <th>cloudcover</th>\n",
              "      <th>visibility</th>\n",
              "      <th>solarradiation</th>\n",
              "      <th>solarenergy</th>\n",
              "      <th>uvindex</th>\n",
              "      <th>severerisk</th>\n",
              "      <th>conditions</th>\n",
              "      <th>icon</th>\n",
              "      <th>stations</th>\n",
              "    </tr>\n",
              "  </thead>\n",
              "  <tbody>\n",
              "    <tr>\n",
              "      <th>0</th>\n",
              "      <td>01-01-2022</td>\n",
              "      <td>00:00</td>\n",
              "      <td>38.2</td>\n",
              "      <td>35.9</td>\n",
              "      <td>31.0</td>\n",
              "      <td>36.9</td>\n",
              "      <td>34.0</td>\n",
              "      <td>15.9</td>\n",
              "      <td>15.5</td>\n",
              "      <td>15.5</td>\n",
              "      <td>...</td>\n",
              "      <td>1009.4</td>\n",
              "      <td>100.0</td>\n",
              "      <td>16.0</td>\n",
              "      <td>0.0</td>\n",
              "      <td>0.0</td>\n",
              "      <td>0.0</td>\n",
              "      <td>NaN</td>\n",
              "      <td>Overcast</td>\n",
              "      <td>cloudy</td>\n",
              "      <td>KHSV,72323003856,72030763804,KMDQ,AAMA1</td>\n",
              "    </tr>\n",
              "    <tr>\n",
              "      <th>1</th>\n",
              "      <td>01-01-2022</td>\n",
              "      <td>01:00</td>\n",
              "      <td>38.2</td>\n",
              "      <td>36.0</td>\n",
              "      <td>30.9</td>\n",
              "      <td>36.7</td>\n",
              "      <td>34.1</td>\n",
              "      <td>16.0</td>\n",
              "      <td>15.6</td>\n",
              "      <td>15.6</td>\n",
              "      <td>...</td>\n",
              "      <td>1009.3</td>\n",
              "      <td>91.7</td>\n",
              "      <td>16.0</td>\n",
              "      <td>0.0</td>\n",
              "      <td>0.0</td>\n",
              "      <td>0.0</td>\n",
              "      <td>NaN</td>\n",
              "      <td>Overcast</td>\n",
              "      <td>cloudy</td>\n",
              "      <td>KHSV,72323003856,72030763804,KMDQ,AAMA1</td>\n",
              "    </tr>\n",
              "    <tr>\n",
              "      <th>2</th>\n",
              "      <td>01-01-2022</td>\n",
              "      <td>02:00</td>\n",
              "      <td>38.3</td>\n",
              "      <td>36.0</td>\n",
              "      <td>31.0</td>\n",
              "      <td>36.7</td>\n",
              "      <td>33.9</td>\n",
              "      <td>16.0</td>\n",
              "      <td>15.6</td>\n",
              "      <td>15.6</td>\n",
              "      <td>...</td>\n",
              "      <td>1009.3</td>\n",
              "      <td>62.7</td>\n",
              "      <td>16.0</td>\n",
              "      <td>0.0</td>\n",
              "      <td>0.0</td>\n",
              "      <td>0.0</td>\n",
              "      <td>NaN</td>\n",
              "      <td>Partially cloudy</td>\n",
              "      <td>partly-cloudy-night</td>\n",
              "      <td>KHSV,72323003856,72030763804,KMDQ,AAMA1</td>\n",
              "    </tr>\n",
              "    <tr>\n",
              "      <th>3</th>\n",
              "      <td>01-01-2022</td>\n",
              "      <td>03:00</td>\n",
              "      <td>38.3</td>\n",
              "      <td>35.8</td>\n",
              "      <td>30.9</td>\n",
              "      <td>36.7</td>\n",
              "      <td>33.9</td>\n",
              "      <td>16.1</td>\n",
              "      <td>15.7</td>\n",
              "      <td>15.6</td>\n",
              "      <td>...</td>\n",
              "      <td>1009.3</td>\n",
              "      <td>91.7</td>\n",
              "      <td>16.0</td>\n",
              "      <td>0.0</td>\n",
              "      <td>0.0</td>\n",
              "      <td>0.0</td>\n",
              "      <td>NaN</td>\n",
              "      <td>Overcast</td>\n",
              "      <td>cloudy</td>\n",
              "      <td>KHSV,72323003856,72030763804,KMDQ,AAMA1</td>\n",
              "    </tr>\n",
              "    <tr>\n",
              "      <th>4</th>\n",
              "      <td>01-01-2022</td>\n",
              "      <td>04:00</td>\n",
              "      <td>38.3</td>\n",
              "      <td>35.9</td>\n",
              "      <td>30.9</td>\n",
              "      <td>36.7</td>\n",
              "      <td>33.9</td>\n",
              "      <td>16.2</td>\n",
              "      <td>15.7</td>\n",
              "      <td>15.7</td>\n",
              "      <td>...</td>\n",
              "      <td>1009.6</td>\n",
              "      <td>100.0</td>\n",
              "      <td>16.0</td>\n",
              "      <td>0.0</td>\n",
              "      <td>0.0</td>\n",
              "      <td>0.0</td>\n",
              "      <td>NaN</td>\n",
              "      <td>Overcast</td>\n",
              "      <td>cloudy</td>\n",
              "      <td>KHSV,72323003856,72030763804,KMDQ</td>\n",
              "    </tr>\n",
              "    <tr>\n",
              "      <th>...</th>\n",
              "      <td>...</td>\n",
              "      <td>...</td>\n",
              "      <td>...</td>\n",
              "      <td>...</td>\n",
              "      <td>...</td>\n",
              "      <td>...</td>\n",
              "      <td>...</td>\n",
              "      <td>...</td>\n",
              "      <td>...</td>\n",
              "      <td>...</td>\n",
              "      <td>...</td>\n",
              "      <td>...</td>\n",
              "      <td>...</td>\n",
              "      <td>...</td>\n",
              "      <td>...</td>\n",
              "      <td>...</td>\n",
              "      <td>...</td>\n",
              "      <td>...</td>\n",
              "      <td>...</td>\n",
              "      <td>...</td>\n",
              "      <td>...</td>\n",
              "    </tr>\n",
              "    <tr>\n",
              "      <th>8755</th>\n",
              "      <td>31-12-2022</td>\n",
              "      <td>19:00</td>\n",
              "      <td>36.8</td>\n",
              "      <td>36.5</td>\n",
              "      <td>30.6</td>\n",
              "      <td>34.7</td>\n",
              "      <td>31.8</td>\n",
              "      <td>10.5</td>\n",
              "      <td>10.1</td>\n",
              "      <td>10.0</td>\n",
              "      <td>...</td>\n",
              "      <td>NaN</td>\n",
              "      <td>NaN</td>\n",
              "      <td>NaN</td>\n",
              "      <td>NaN</td>\n",
              "      <td>NaN</td>\n",
              "      <td>NaN</td>\n",
              "      <td>NaN</td>\n",
              "      <td>NaN</td>\n",
              "      <td>NaN</td>\n",
              "      <td>NaN</td>\n",
              "    </tr>\n",
              "    <tr>\n",
              "      <th>8756</th>\n",
              "      <td>31-12-2022</td>\n",
              "      <td>20:00</td>\n",
              "      <td>36.7</td>\n",
              "      <td>36.2</td>\n",
              "      <td>30.5</td>\n",
              "      <td>34.7</td>\n",
              "      <td>31.8</td>\n",
              "      <td>10.2</td>\n",
              "      <td>10.0</td>\n",
              "      <td>9.9</td>\n",
              "      <td>...</td>\n",
              "      <td>NaN</td>\n",
              "      <td>NaN</td>\n",
              "      <td>NaN</td>\n",
              "      <td>NaN</td>\n",
              "      <td>NaN</td>\n",
              "      <td>NaN</td>\n",
              "      <td>NaN</td>\n",
              "      <td>NaN</td>\n",
              "      <td>NaN</td>\n",
              "      <td>NaN</td>\n",
              "    </tr>\n",
              "    <tr>\n",
              "      <th>8757</th>\n",
              "      <td>31-12-2022</td>\n",
              "      <td>21:00</td>\n",
              "      <td>36.5</td>\n",
              "      <td>36.1</td>\n",
              "      <td>30.3</td>\n",
              "      <td>34.9</td>\n",
              "      <td>31.8</td>\n",
              "      <td>9.9</td>\n",
              "      <td>9.9</td>\n",
              "      <td>9.8</td>\n",
              "      <td>...</td>\n",
              "      <td>NaN</td>\n",
              "      <td>NaN</td>\n",
              "      <td>NaN</td>\n",
              "      <td>NaN</td>\n",
              "      <td>NaN</td>\n",
              "      <td>NaN</td>\n",
              "      <td>NaN</td>\n",
              "      <td>NaN</td>\n",
              "      <td>NaN</td>\n",
              "      <td>NaN</td>\n",
              "    </tr>\n",
              "    <tr>\n",
              "      <th>8758</th>\n",
              "      <td>31-12-2022</td>\n",
              "      <td>22:00</td>\n",
              "      <td>36.5</td>\n",
              "      <td>36.1</td>\n",
              "      <td>30.3</td>\n",
              "      <td>34.8</td>\n",
              "      <td>32.0</td>\n",
              "      <td>9.7</td>\n",
              "      <td>9.7</td>\n",
              "      <td>9.8</td>\n",
              "      <td>...</td>\n",
              "      <td>NaN</td>\n",
              "      <td>NaN</td>\n",
              "      <td>NaN</td>\n",
              "      <td>NaN</td>\n",
              "      <td>NaN</td>\n",
              "      <td>NaN</td>\n",
              "      <td>NaN</td>\n",
              "      <td>NaN</td>\n",
              "      <td>NaN</td>\n",
              "      <td>NaN</td>\n",
              "    </tr>\n",
              "    <tr>\n",
              "      <th>8759</th>\n",
              "      <td>31-12-2022</td>\n",
              "      <td>23:00</td>\n",
              "      <td>37.2</td>\n",
              "      <td>36.0</td>\n",
              "      <td>30.3</td>\n",
              "      <td>34.8</td>\n",
              "      <td>32.0</td>\n",
              "      <td>9.4</td>\n",
              "      <td>9.6</td>\n",
              "      <td>9.7</td>\n",
              "      <td>...</td>\n",
              "      <td>NaN</td>\n",
              "      <td>NaN</td>\n",
              "      <td>NaN</td>\n",
              "      <td>NaN</td>\n",
              "      <td>NaN</td>\n",
              "      <td>NaN</td>\n",
              "      <td>NaN</td>\n",
              "      <td>NaN</td>\n",
              "      <td>NaN</td>\n",
              "      <td>NaN</td>\n",
              "    </tr>\n",
              "  </tbody>\n",
              "</table>\n",
              "<p>8760 rows × 34 columns</p>\n",
              "</div>"
            ],
            "text/plain": [
              "            Date   Time  SM_2  SM_4  SM_8  SM_20  SM_40  ST_2  ST_4  ST_8  \\\n",
              "0     01-01-2022  00:00  38.2  35.9  31.0   36.9   34.0  15.9  15.5  15.5   \n",
              "1     01-01-2022  01:00  38.2  36.0  30.9   36.7   34.1  16.0  15.6  15.6   \n",
              "2     01-01-2022  02:00  38.3  36.0  31.0   36.7   33.9  16.0  15.6  15.6   \n",
              "3     01-01-2022  03:00  38.3  35.8  30.9   36.7   33.9  16.1  15.7  15.6   \n",
              "4     01-01-2022  04:00  38.3  35.9  30.9   36.7   33.9  16.2  15.7  15.7   \n",
              "...          ...    ...   ...   ...   ...    ...    ...   ...   ...   ...   \n",
              "8755  31-12-2022  19:00  36.8  36.5  30.6   34.7   31.8  10.5  10.1  10.0   \n",
              "8756  31-12-2022  20:00  36.7  36.2  30.5   34.7   31.8  10.2  10.0   9.9   \n",
              "8757  31-12-2022  21:00  36.5  36.1  30.3   34.9   31.8   9.9   9.9   9.8   \n",
              "8758  31-12-2022  22:00  36.5  36.1  30.3   34.8   32.0   9.7   9.7   9.8   \n",
              "8759  31-12-2022  23:00  37.2  36.0  30.3   34.8   32.0   9.4   9.6   9.7   \n",
              "\n",
              "      ...  sealevelpressure  cloudcover  visibility  solarradiation  \\\n",
              "0     ...            1009.4       100.0        16.0             0.0   \n",
              "1     ...            1009.3        91.7        16.0             0.0   \n",
              "2     ...            1009.3        62.7        16.0             0.0   \n",
              "3     ...            1009.3        91.7        16.0             0.0   \n",
              "4     ...            1009.6       100.0        16.0             0.0   \n",
              "...   ...               ...         ...         ...             ...   \n",
              "8755  ...               NaN         NaN         NaN             NaN   \n",
              "8756  ...               NaN         NaN         NaN             NaN   \n",
              "8757  ...               NaN         NaN         NaN             NaN   \n",
              "8758  ...               NaN         NaN         NaN             NaN   \n",
              "8759  ...               NaN         NaN         NaN             NaN   \n",
              "\n",
              "      solarenergy  uvindex  severerisk        conditions                 icon  \\\n",
              "0             0.0      0.0         NaN          Overcast               cloudy   \n",
              "1             0.0      0.0         NaN          Overcast               cloudy   \n",
              "2             0.0      0.0         NaN  Partially cloudy  partly-cloudy-night   \n",
              "3             0.0      0.0         NaN          Overcast               cloudy   \n",
              "4             0.0      0.0         NaN          Overcast               cloudy   \n",
              "...           ...      ...         ...               ...                  ...   \n",
              "8755          NaN      NaN         NaN               NaN                  NaN   \n",
              "8756          NaN      NaN         NaN               NaN                  NaN   \n",
              "8757          NaN      NaN         NaN               NaN                  NaN   \n",
              "8758          NaN      NaN         NaN               NaN                  NaN   \n",
              "8759          NaN      NaN         NaN               NaN                  NaN   \n",
              "\n",
              "                                     stations  \n",
              "0     KHSV,72323003856,72030763804,KMDQ,AAMA1  \n",
              "1     KHSV,72323003856,72030763804,KMDQ,AAMA1  \n",
              "2     KHSV,72323003856,72030763804,KMDQ,AAMA1  \n",
              "3     KHSV,72323003856,72030763804,KMDQ,AAMA1  \n",
              "4           KHSV,72323003856,72030763804,KMDQ  \n",
              "...                                       ...  \n",
              "8755                                      NaN  \n",
              "8756                                      NaN  \n",
              "8757                                      NaN  \n",
              "8758                                      NaN  \n",
              "8759                                      NaN  \n",
              "\n",
              "[8760 rows x 34 columns]"
            ]
          },
          "execution_count": 3,
          "metadata": {},
          "output_type": "execute_result"
        }
      ],
      "source": [
        "dataset=pd.read_csv(\"storage_dataset/prototype_final_dataset.csv\")\n",
        "dataset"
      ]
    },
    {
      "cell_type": "code",
      "execution_count": 4,
      "metadata": {
        "colab": {
          "base_uri": "https://localhost:8080/"
        },
        "id": "u9r0EEyA9c3f",
        "outputId": "fe79ea9c-d574-4b99-c2cc-e9832c1b08c6"
      },
      "outputs": [
        {
          "data": {
            "text/plain": [
              "Index(['Date', 'Time', 'SM_2', 'SM_4', 'SM_8', 'SM_20', 'SM_40', 'ST_2',\n",
              "       'ST_4', 'ST_8', 'ST_20', 'ST_40', 'temp', 'feelslike', 'dew',\n",
              "       'humidity', 'precip', 'precipprob', 'preciptype', 'snow', 'snowdepth',\n",
              "       'windgust', 'windspeed', 'winddir', 'sealevelpressure', 'cloudcover',\n",
              "       'visibility', 'solarradiation', 'solarenergy', 'uvindex', 'severerisk',\n",
              "       'conditions', 'icon', 'stations'],\n",
              "      dtype='object')"
            ]
          },
          "execution_count": 4,
          "metadata": {},
          "output_type": "execute_result"
        }
      ],
      "source": [
        "dataset.columns"
      ]
    },
    {
      "cell_type": "code",
      "execution_count": 5,
      "metadata": {
        "colab": {
          "base_uri": "https://localhost:8080/"
        },
        "id": "o9BYvYs39c3f",
        "outputId": "322a444b-70f6-417f-c336-f5e6ddc92715"
      },
      "outputs": [
        {
          "data": {
            "text/plain": [
              "8760"
            ]
          },
          "execution_count": 5,
          "metadata": {},
          "output_type": "execute_result"
        }
      ],
      "source": [
        "dataset.__len__()"
      ]
    },
    {
      "cell_type": "code",
      "execution_count": 6,
      "metadata": {
        "colab": {
          "base_uri": "https://localhost:8080/"
        },
        "id": "s6G4shkt9c3f",
        "outputId": "4d68ae60-e769-4a1e-be9b-07d36c4a2ef7"
      },
      "outputs": [
        {
          "name": "stdout",
          "output_type": "stream",
          "text": [
            "<class 'pandas.core.frame.DataFrame'>\n",
            "RangeIndex: 8760 entries, 0 to 8759\n",
            "Data columns (total 34 columns):\n",
            " #   Column            Non-Null Count  Dtype  \n",
            "---  ------            --------------  -----  \n",
            " 0   Date              8760 non-null   object \n",
            " 1   Time              8760 non-null   object \n",
            " 2   SM_2              8760 non-null   float64\n",
            " 3   SM_4              8760 non-null   float64\n",
            " 4   SM_8              8760 non-null   float64\n",
            " 5   SM_20             8760 non-null   float64\n",
            " 6   SM_40             8760 non-null   float64\n",
            " 7   ST_2              8760 non-null   float64\n",
            " 8   ST_4              8760 non-null   float64\n",
            " 9   ST_8              8760 non-null   float64\n",
            " 10  ST_20             8760 non-null   float64\n",
            " 11  ST_40             8760 non-null   float64\n",
            " 12  temp              2879 non-null   float64\n",
            " 13  feelslike         2879 non-null   float64\n",
            " 14  dew               2879 non-null   float64\n",
            " 15  humidity          2879 non-null   float64\n",
            " 16  precip            2879 non-null   float64\n",
            " 17  precipprob        2879 non-null   float64\n",
            " 18  preciptype        298 non-null    object \n",
            " 19  snow              2800 non-null   float64\n",
            " 20  snowdepth         2879 non-null   float64\n",
            " 21  windgust          2291 non-null   float64\n",
            " 22  windspeed         2879 non-null   float64\n",
            " 23  winddir           2879 non-null   float64\n",
            " 24  sealevelpressure  2879 non-null   float64\n",
            " 25  cloudcover        2879 non-null   float64\n",
            " 26  visibility        2879 non-null   float64\n",
            " 27  solarradiation    2879 non-null   float64\n",
            " 28  solarenergy       2879 non-null   float64\n",
            " 29  uvindex           2879 non-null   float64\n",
            " 30  severerisk        2135 non-null   float64\n",
            " 31  conditions        2879 non-null   object \n",
            " 32  icon              2879 non-null   object \n",
            " 33  stations          2879 non-null   object \n",
            "dtypes: float64(28), object(6)\n",
            "memory usage: 2.3+ MB\n"
          ]
        }
      ],
      "source": [
        "dataset.info()"
      ]
    },
    {
      "cell_type": "code",
      "execution_count": 7,
      "metadata": {
        "colab": {
          "base_uri": "https://localhost:8080/"
        },
        "id": "vEIXuk2Y9c3f",
        "outputId": "0bc95970-2eec-4f02-febe-bcf683581270"
      },
      "outputs": [
        {
          "data": {
            "text/plain": [
              "8760"
            ]
          },
          "execution_count": 7,
          "metadata": {},
          "output_type": "execute_result"
        }
      ],
      "source": [
        "dataset.__len__()"
      ]
    },
    {
      "cell_type": "code",
      "execution_count": 8,
      "metadata": {
        "colab": {
          "base_uri": "https://localhost:8080/",
          "height": 790
        },
        "id": "vLiMVf919c3f",
        "outputId": "68b9319d-5218-469c-fee0-e8d6a18017ba"
      },
      "outputs": [
        {
          "data": {
            "text/html": [
              "<div>\n",
              "<style scoped>\n",
              "    .dataframe tbody tr th:only-of-type {\n",
              "        vertical-align: middle;\n",
              "    }\n",
              "\n",
              "    .dataframe tbody tr th {\n",
              "        vertical-align: top;\n",
              "    }\n",
              "\n",
              "    .dataframe thead th {\n",
              "        text-align: right;\n",
              "    }\n",
              "</style>\n",
              "<table border=\"1\" class=\"dataframe\">\n",
              "  <thead>\n",
              "    <tr style=\"text-align: right;\">\n",
              "      <th></th>\n",
              "      <th>Date</th>\n",
              "      <th>Time</th>\n",
              "      <th>SM_2</th>\n",
              "      <th>SM_4</th>\n",
              "      <th>SM_8</th>\n",
              "      <th>SM_20</th>\n",
              "      <th>SM_40</th>\n",
              "      <th>ST_2</th>\n",
              "      <th>ST_4</th>\n",
              "      <th>ST_8</th>\n",
              "      <th>...</th>\n",
              "      <th>sealevelpressure</th>\n",
              "      <th>cloudcover</th>\n",
              "      <th>visibility</th>\n",
              "      <th>solarradiation</th>\n",
              "      <th>solarenergy</th>\n",
              "      <th>uvindex</th>\n",
              "      <th>severerisk</th>\n",
              "      <th>conditions</th>\n",
              "      <th>icon</th>\n",
              "      <th>stations</th>\n",
              "    </tr>\n",
              "  </thead>\n",
              "  <tbody>\n",
              "    <tr>\n",
              "      <th>0</th>\n",
              "      <td>01-01-2022</td>\n",
              "      <td>00:00</td>\n",
              "      <td>38.2</td>\n",
              "      <td>35.9</td>\n",
              "      <td>31.0</td>\n",
              "      <td>36.9</td>\n",
              "      <td>34.0</td>\n",
              "      <td>15.9</td>\n",
              "      <td>15.5</td>\n",
              "      <td>15.5</td>\n",
              "      <td>...</td>\n",
              "      <td>1009.4</td>\n",
              "      <td>100.0</td>\n",
              "      <td>16.0</td>\n",
              "      <td>0.0</td>\n",
              "      <td>0.0</td>\n",
              "      <td>0.0</td>\n",
              "      <td>NaN</td>\n",
              "      <td>Overcast</td>\n",
              "      <td>cloudy</td>\n",
              "      <td>KHSV,72323003856,72030763804,KMDQ,AAMA1</td>\n",
              "    </tr>\n",
              "    <tr>\n",
              "      <th>1</th>\n",
              "      <td>01-01-2022</td>\n",
              "      <td>01:00</td>\n",
              "      <td>38.2</td>\n",
              "      <td>36.0</td>\n",
              "      <td>30.9</td>\n",
              "      <td>36.7</td>\n",
              "      <td>34.1</td>\n",
              "      <td>16.0</td>\n",
              "      <td>15.6</td>\n",
              "      <td>15.6</td>\n",
              "      <td>...</td>\n",
              "      <td>1009.3</td>\n",
              "      <td>91.7</td>\n",
              "      <td>16.0</td>\n",
              "      <td>0.0</td>\n",
              "      <td>0.0</td>\n",
              "      <td>0.0</td>\n",
              "      <td>NaN</td>\n",
              "      <td>Overcast</td>\n",
              "      <td>cloudy</td>\n",
              "      <td>KHSV,72323003856,72030763804,KMDQ,AAMA1</td>\n",
              "    </tr>\n",
              "    <tr>\n",
              "      <th>2</th>\n",
              "      <td>01-01-2022</td>\n",
              "      <td>02:00</td>\n",
              "      <td>38.3</td>\n",
              "      <td>36.0</td>\n",
              "      <td>31.0</td>\n",
              "      <td>36.7</td>\n",
              "      <td>33.9</td>\n",
              "      <td>16.0</td>\n",
              "      <td>15.6</td>\n",
              "      <td>15.6</td>\n",
              "      <td>...</td>\n",
              "      <td>1009.3</td>\n",
              "      <td>62.7</td>\n",
              "      <td>16.0</td>\n",
              "      <td>0.0</td>\n",
              "      <td>0.0</td>\n",
              "      <td>0.0</td>\n",
              "      <td>NaN</td>\n",
              "      <td>Partially cloudy</td>\n",
              "      <td>partly-cloudy-night</td>\n",
              "      <td>KHSV,72323003856,72030763804,KMDQ,AAMA1</td>\n",
              "    </tr>\n",
              "    <tr>\n",
              "      <th>3</th>\n",
              "      <td>01-01-2022</td>\n",
              "      <td>03:00</td>\n",
              "      <td>38.3</td>\n",
              "      <td>35.8</td>\n",
              "      <td>30.9</td>\n",
              "      <td>36.7</td>\n",
              "      <td>33.9</td>\n",
              "      <td>16.1</td>\n",
              "      <td>15.7</td>\n",
              "      <td>15.6</td>\n",
              "      <td>...</td>\n",
              "      <td>1009.3</td>\n",
              "      <td>91.7</td>\n",
              "      <td>16.0</td>\n",
              "      <td>0.0</td>\n",
              "      <td>0.0</td>\n",
              "      <td>0.0</td>\n",
              "      <td>NaN</td>\n",
              "      <td>Overcast</td>\n",
              "      <td>cloudy</td>\n",
              "      <td>KHSV,72323003856,72030763804,KMDQ,AAMA1</td>\n",
              "    </tr>\n",
              "    <tr>\n",
              "      <th>4</th>\n",
              "      <td>01-01-2022</td>\n",
              "      <td>04:00</td>\n",
              "      <td>38.3</td>\n",
              "      <td>35.9</td>\n",
              "      <td>30.9</td>\n",
              "      <td>36.7</td>\n",
              "      <td>33.9</td>\n",
              "      <td>16.2</td>\n",
              "      <td>15.7</td>\n",
              "      <td>15.7</td>\n",
              "      <td>...</td>\n",
              "      <td>1009.6</td>\n",
              "      <td>100.0</td>\n",
              "      <td>16.0</td>\n",
              "      <td>0.0</td>\n",
              "      <td>0.0</td>\n",
              "      <td>0.0</td>\n",
              "      <td>NaN</td>\n",
              "      <td>Overcast</td>\n",
              "      <td>cloudy</td>\n",
              "      <td>KHSV,72323003856,72030763804,KMDQ</td>\n",
              "    </tr>\n",
              "    <tr>\n",
              "      <th>...</th>\n",
              "      <td>...</td>\n",
              "      <td>...</td>\n",
              "      <td>...</td>\n",
              "      <td>...</td>\n",
              "      <td>...</td>\n",
              "      <td>...</td>\n",
              "      <td>...</td>\n",
              "      <td>...</td>\n",
              "      <td>...</td>\n",
              "      <td>...</td>\n",
              "      <td>...</td>\n",
              "      <td>...</td>\n",
              "      <td>...</td>\n",
              "      <td>...</td>\n",
              "      <td>...</td>\n",
              "      <td>...</td>\n",
              "      <td>...</td>\n",
              "      <td>...</td>\n",
              "      <td>...</td>\n",
              "      <td>...</td>\n",
              "      <td>...</td>\n",
              "    </tr>\n",
              "    <tr>\n",
              "      <th>8755</th>\n",
              "      <td>31-12-2022</td>\n",
              "      <td>19:00</td>\n",
              "      <td>36.8</td>\n",
              "      <td>36.5</td>\n",
              "      <td>30.6</td>\n",
              "      <td>34.7</td>\n",
              "      <td>31.8</td>\n",
              "      <td>10.5</td>\n",
              "      <td>10.1</td>\n",
              "      <td>10.0</td>\n",
              "      <td>...</td>\n",
              "      <td>NaN</td>\n",
              "      <td>NaN</td>\n",
              "      <td>NaN</td>\n",
              "      <td>NaN</td>\n",
              "      <td>NaN</td>\n",
              "      <td>NaN</td>\n",
              "      <td>NaN</td>\n",
              "      <td>NaN</td>\n",
              "      <td>NaN</td>\n",
              "      <td>NaN</td>\n",
              "    </tr>\n",
              "    <tr>\n",
              "      <th>8756</th>\n",
              "      <td>31-12-2022</td>\n",
              "      <td>20:00</td>\n",
              "      <td>36.7</td>\n",
              "      <td>36.2</td>\n",
              "      <td>30.5</td>\n",
              "      <td>34.7</td>\n",
              "      <td>31.8</td>\n",
              "      <td>10.2</td>\n",
              "      <td>10.0</td>\n",
              "      <td>9.9</td>\n",
              "      <td>...</td>\n",
              "      <td>NaN</td>\n",
              "      <td>NaN</td>\n",
              "      <td>NaN</td>\n",
              "      <td>NaN</td>\n",
              "      <td>NaN</td>\n",
              "      <td>NaN</td>\n",
              "      <td>NaN</td>\n",
              "      <td>NaN</td>\n",
              "      <td>NaN</td>\n",
              "      <td>NaN</td>\n",
              "    </tr>\n",
              "    <tr>\n",
              "      <th>8757</th>\n",
              "      <td>31-12-2022</td>\n",
              "      <td>21:00</td>\n",
              "      <td>36.5</td>\n",
              "      <td>36.1</td>\n",
              "      <td>30.3</td>\n",
              "      <td>34.9</td>\n",
              "      <td>31.8</td>\n",
              "      <td>9.9</td>\n",
              "      <td>9.9</td>\n",
              "      <td>9.8</td>\n",
              "      <td>...</td>\n",
              "      <td>NaN</td>\n",
              "      <td>NaN</td>\n",
              "      <td>NaN</td>\n",
              "      <td>NaN</td>\n",
              "      <td>NaN</td>\n",
              "      <td>NaN</td>\n",
              "      <td>NaN</td>\n",
              "      <td>NaN</td>\n",
              "      <td>NaN</td>\n",
              "      <td>NaN</td>\n",
              "    </tr>\n",
              "    <tr>\n",
              "      <th>8758</th>\n",
              "      <td>31-12-2022</td>\n",
              "      <td>22:00</td>\n",
              "      <td>36.5</td>\n",
              "      <td>36.1</td>\n",
              "      <td>30.3</td>\n",
              "      <td>34.8</td>\n",
              "      <td>32.0</td>\n",
              "      <td>9.7</td>\n",
              "      <td>9.7</td>\n",
              "      <td>9.8</td>\n",
              "      <td>...</td>\n",
              "      <td>NaN</td>\n",
              "      <td>NaN</td>\n",
              "      <td>NaN</td>\n",
              "      <td>NaN</td>\n",
              "      <td>NaN</td>\n",
              "      <td>NaN</td>\n",
              "      <td>NaN</td>\n",
              "      <td>NaN</td>\n",
              "      <td>NaN</td>\n",
              "      <td>NaN</td>\n",
              "    </tr>\n",
              "    <tr>\n",
              "      <th>8759</th>\n",
              "      <td>31-12-2022</td>\n",
              "      <td>23:00</td>\n",
              "      <td>37.2</td>\n",
              "      <td>36.0</td>\n",
              "      <td>30.3</td>\n",
              "      <td>34.8</td>\n",
              "      <td>32.0</td>\n",
              "      <td>9.4</td>\n",
              "      <td>9.6</td>\n",
              "      <td>9.7</td>\n",
              "      <td>...</td>\n",
              "      <td>NaN</td>\n",
              "      <td>NaN</td>\n",
              "      <td>NaN</td>\n",
              "      <td>NaN</td>\n",
              "      <td>NaN</td>\n",
              "      <td>NaN</td>\n",
              "      <td>NaN</td>\n",
              "      <td>NaN</td>\n",
              "      <td>NaN</td>\n",
              "      <td>NaN</td>\n",
              "    </tr>\n",
              "  </tbody>\n",
              "</table>\n",
              "<p>8760 rows × 34 columns</p>\n",
              "</div>"
            ],
            "text/plain": [
              "            Date   Time  SM_2  SM_4  SM_8  SM_20  SM_40  ST_2  ST_4  ST_8  \\\n",
              "0     01-01-2022  00:00  38.2  35.9  31.0   36.9   34.0  15.9  15.5  15.5   \n",
              "1     01-01-2022  01:00  38.2  36.0  30.9   36.7   34.1  16.0  15.6  15.6   \n",
              "2     01-01-2022  02:00  38.3  36.0  31.0   36.7   33.9  16.0  15.6  15.6   \n",
              "3     01-01-2022  03:00  38.3  35.8  30.9   36.7   33.9  16.1  15.7  15.6   \n",
              "4     01-01-2022  04:00  38.3  35.9  30.9   36.7   33.9  16.2  15.7  15.7   \n",
              "...          ...    ...   ...   ...   ...    ...    ...   ...   ...   ...   \n",
              "8755  31-12-2022  19:00  36.8  36.5  30.6   34.7   31.8  10.5  10.1  10.0   \n",
              "8756  31-12-2022  20:00  36.7  36.2  30.5   34.7   31.8  10.2  10.0   9.9   \n",
              "8757  31-12-2022  21:00  36.5  36.1  30.3   34.9   31.8   9.9   9.9   9.8   \n",
              "8758  31-12-2022  22:00  36.5  36.1  30.3   34.8   32.0   9.7   9.7   9.8   \n",
              "8759  31-12-2022  23:00  37.2  36.0  30.3   34.8   32.0   9.4   9.6   9.7   \n",
              "\n",
              "      ...  sealevelpressure  cloudcover  visibility  solarradiation  \\\n",
              "0     ...            1009.4       100.0        16.0             0.0   \n",
              "1     ...            1009.3        91.7        16.0             0.0   \n",
              "2     ...            1009.3        62.7        16.0             0.0   \n",
              "3     ...            1009.3        91.7        16.0             0.0   \n",
              "4     ...            1009.6       100.0        16.0             0.0   \n",
              "...   ...               ...         ...         ...             ...   \n",
              "8755  ...               NaN         NaN         NaN             NaN   \n",
              "8756  ...               NaN         NaN         NaN             NaN   \n",
              "8757  ...               NaN         NaN         NaN             NaN   \n",
              "8758  ...               NaN         NaN         NaN             NaN   \n",
              "8759  ...               NaN         NaN         NaN             NaN   \n",
              "\n",
              "      solarenergy  uvindex  severerisk        conditions                 icon  \\\n",
              "0             0.0      0.0         NaN          Overcast               cloudy   \n",
              "1             0.0      0.0         NaN          Overcast               cloudy   \n",
              "2             0.0      0.0         NaN  Partially cloudy  partly-cloudy-night   \n",
              "3             0.0      0.0         NaN          Overcast               cloudy   \n",
              "4             0.0      0.0         NaN          Overcast               cloudy   \n",
              "...           ...      ...         ...               ...                  ...   \n",
              "8755          NaN      NaN         NaN               NaN                  NaN   \n",
              "8756          NaN      NaN         NaN               NaN                  NaN   \n",
              "8757          NaN      NaN         NaN               NaN                  NaN   \n",
              "8758          NaN      NaN         NaN               NaN                  NaN   \n",
              "8759          NaN      NaN         NaN               NaN                  NaN   \n",
              "\n",
              "                                     stations  \n",
              "0     KHSV,72323003856,72030763804,KMDQ,AAMA1  \n",
              "1     KHSV,72323003856,72030763804,KMDQ,AAMA1  \n",
              "2     KHSV,72323003856,72030763804,KMDQ,AAMA1  \n",
              "3     KHSV,72323003856,72030763804,KMDQ,AAMA1  \n",
              "4           KHSV,72323003856,72030763804,KMDQ  \n",
              "...                                       ...  \n",
              "8755                                      NaN  \n",
              "8756                                      NaN  \n",
              "8757                                      NaN  \n",
              "8758                                      NaN  \n",
              "8759                                      NaN  \n",
              "\n",
              "[8760 rows x 34 columns]"
            ]
          },
          "execution_count": 8,
          "metadata": {},
          "output_type": "execute_result"
        }
      ],
      "source": [
        "dataset"
      ]
    },
    {
      "cell_type": "code",
      "execution_count": 9,
      "metadata": {
        "id": "n4oAbZVI9c3f"
      },
      "outputs": [],
      "source": [
        "dataset.drop(\n",
        "    [\n",
        "        \"Date\",\n",
        "        \"SM_2\",\n",
        "        \"SM_8\",\n",
        "        \"SM_20\",\n",
        "        \"SM_40\",\n",
        "        \"ST_2\",\n",
        "        \"ST_8\",\n",
        "        \"ST_20\",\n",
        "        \"ST_40\",\n",
        "        \"solarenergy\",\n",
        "        \"precipprob\",\n",
        "        \"preciptype\",\n",
        "        \"snow\",\n",
        "        \"snowdepth\",\n",
        "        \"windgust\",\n",
        "        \"winddir\",\n",
        "        \"sealevelpressure\",\n",
        "        \"visibility\",\n",
        "        \"solarenergy\",\n",
        "        \"uvindex\",\n",
        "        \"severerisk\",\n",
        "        \"icon\",\n",
        "        \"stations\",\n",
        "        \"dew\",\n",
        "        \"solarradiation\",\n",
        "        \"Time\",\n",
        "        # \"cloudcover\",\n",
        "        \"feelslike\",\n",
        "        # \"windspeed\",\n",
        "    ],\n",
        "    inplace=True,\n",
        "    axis=1,\n",
        ")"
      ]
    },
    {
      "cell_type": "code",
      "execution_count": 10,
      "metadata": {
        "colab": {
          "base_uri": "https://localhost:8080/",
          "height": 423
        },
        "id": "UyLecQH29c3f",
        "outputId": "0b11f842-b33a-49ea-9fef-b0bf8e22d24a"
      },
      "outputs": [
        {
          "data": {
            "text/html": [
              "<div>\n",
              "<style scoped>\n",
              "    .dataframe tbody tr th:only-of-type {\n",
              "        vertical-align: middle;\n",
              "    }\n",
              "\n",
              "    .dataframe tbody tr th {\n",
              "        vertical-align: top;\n",
              "    }\n",
              "\n",
              "    .dataframe thead th {\n",
              "        text-align: right;\n",
              "    }\n",
              "</style>\n",
              "<table border=\"1\" class=\"dataframe\">\n",
              "  <thead>\n",
              "    <tr style=\"text-align: right;\">\n",
              "      <th></th>\n",
              "      <th>SM_4</th>\n",
              "      <th>ST_2</th>\n",
              "      <th>ST_4</th>\n",
              "      <th>temp</th>\n",
              "      <th>humidity</th>\n",
              "      <th>precip</th>\n",
              "      <th>windspeed</th>\n",
              "      <th>cloudcover</th>\n",
              "      <th>conditions</th>\n",
              "    </tr>\n",
              "  </thead>\n",
              "  <tbody>\n",
              "    <tr>\n",
              "      <th>0</th>\n",
              "      <td>35.9</td>\n",
              "      <td>15.9</td>\n",
              "      <td>15.5</td>\n",
              "      <td>21.6</td>\n",
              "      <td>84.50</td>\n",
              "      <td>0.0</td>\n",
              "      <td>22.3</td>\n",
              "      <td>100.0</td>\n",
              "      <td>Overcast</td>\n",
              "    </tr>\n",
              "    <tr>\n",
              "      <th>1</th>\n",
              "      <td>36.0</td>\n",
              "      <td>16.0</td>\n",
              "      <td>15.6</td>\n",
              "      <td>21.6</td>\n",
              "      <td>84.97</td>\n",
              "      <td>0.0</td>\n",
              "      <td>27.7</td>\n",
              "      <td>91.7</td>\n",
              "      <td>Overcast</td>\n",
              "    </tr>\n",
              "    <tr>\n",
              "      <th>2</th>\n",
              "      <td>36.0</td>\n",
              "      <td>16.0</td>\n",
              "      <td>15.6</td>\n",
              "      <td>21.2</td>\n",
              "      <td>86.87</td>\n",
              "      <td>0.0</td>\n",
              "      <td>22.8</td>\n",
              "      <td>62.7</td>\n",
              "      <td>Partially cloudy</td>\n",
              "    </tr>\n",
              "    <tr>\n",
              "      <th>3</th>\n",
              "      <td>35.8</td>\n",
              "      <td>16.1</td>\n",
              "      <td>15.7</td>\n",
              "      <td>21.2</td>\n",
              "      <td>86.66</td>\n",
              "      <td>0.0</td>\n",
              "      <td>22.8</td>\n",
              "      <td>91.7</td>\n",
              "      <td>Overcast</td>\n",
              "    </tr>\n",
              "    <tr>\n",
              "      <th>4</th>\n",
              "      <td>35.9</td>\n",
              "      <td>16.2</td>\n",
              "      <td>15.7</td>\n",
              "      <td>21.6</td>\n",
              "      <td>84.50</td>\n",
              "      <td>0.0</td>\n",
              "      <td>19.8</td>\n",
              "      <td>100.0</td>\n",
              "      <td>Overcast</td>\n",
              "    </tr>\n",
              "    <tr>\n",
              "      <th>...</th>\n",
              "      <td>...</td>\n",
              "      <td>...</td>\n",
              "      <td>...</td>\n",
              "      <td>...</td>\n",
              "      <td>...</td>\n",
              "      <td>...</td>\n",
              "      <td>...</td>\n",
              "      <td>...</td>\n",
              "      <td>...</td>\n",
              "    </tr>\n",
              "    <tr>\n",
              "      <th>8755</th>\n",
              "      <td>36.5</td>\n",
              "      <td>10.5</td>\n",
              "      <td>10.1</td>\n",
              "      <td>NaN</td>\n",
              "      <td>NaN</td>\n",
              "      <td>NaN</td>\n",
              "      <td>NaN</td>\n",
              "      <td>NaN</td>\n",
              "      <td>NaN</td>\n",
              "    </tr>\n",
              "    <tr>\n",
              "      <th>8756</th>\n",
              "      <td>36.2</td>\n",
              "      <td>10.2</td>\n",
              "      <td>10.0</td>\n",
              "      <td>NaN</td>\n",
              "      <td>NaN</td>\n",
              "      <td>NaN</td>\n",
              "      <td>NaN</td>\n",
              "      <td>NaN</td>\n",
              "      <td>NaN</td>\n",
              "    </tr>\n",
              "    <tr>\n",
              "      <th>8757</th>\n",
              "      <td>36.1</td>\n",
              "      <td>9.9</td>\n",
              "      <td>9.9</td>\n",
              "      <td>NaN</td>\n",
              "      <td>NaN</td>\n",
              "      <td>NaN</td>\n",
              "      <td>NaN</td>\n",
              "      <td>NaN</td>\n",
              "      <td>NaN</td>\n",
              "    </tr>\n",
              "    <tr>\n",
              "      <th>8758</th>\n",
              "      <td>36.1</td>\n",
              "      <td>9.7</td>\n",
              "      <td>9.7</td>\n",
              "      <td>NaN</td>\n",
              "      <td>NaN</td>\n",
              "      <td>NaN</td>\n",
              "      <td>NaN</td>\n",
              "      <td>NaN</td>\n",
              "      <td>NaN</td>\n",
              "    </tr>\n",
              "    <tr>\n",
              "      <th>8759</th>\n",
              "      <td>36.0</td>\n",
              "      <td>9.4</td>\n",
              "      <td>9.6</td>\n",
              "      <td>NaN</td>\n",
              "      <td>NaN</td>\n",
              "      <td>NaN</td>\n",
              "      <td>NaN</td>\n",
              "      <td>NaN</td>\n",
              "      <td>NaN</td>\n",
              "    </tr>\n",
              "  </tbody>\n",
              "</table>\n",
              "<p>8760 rows × 9 columns</p>\n",
              "</div>"
            ],
            "text/plain": [
              "      SM_4  ST_2  ST_4  temp  humidity  precip  windspeed  cloudcover  \\\n",
              "0     35.9  15.9  15.5  21.6     84.50     0.0       22.3       100.0   \n",
              "1     36.0  16.0  15.6  21.6     84.97     0.0       27.7        91.7   \n",
              "2     36.0  16.0  15.6  21.2     86.87     0.0       22.8        62.7   \n",
              "3     35.8  16.1  15.7  21.2     86.66     0.0       22.8        91.7   \n",
              "4     35.9  16.2  15.7  21.6     84.50     0.0       19.8       100.0   \n",
              "...    ...   ...   ...   ...       ...     ...        ...         ...   \n",
              "8755  36.5  10.5  10.1   NaN       NaN     NaN        NaN         NaN   \n",
              "8756  36.2  10.2  10.0   NaN       NaN     NaN        NaN         NaN   \n",
              "8757  36.1   9.9   9.9   NaN       NaN     NaN        NaN         NaN   \n",
              "8758  36.1   9.7   9.7   NaN       NaN     NaN        NaN         NaN   \n",
              "8759  36.0   9.4   9.6   NaN       NaN     NaN        NaN         NaN   \n",
              "\n",
              "            conditions  \n",
              "0             Overcast  \n",
              "1             Overcast  \n",
              "2     Partially cloudy  \n",
              "3             Overcast  \n",
              "4             Overcast  \n",
              "...                ...  \n",
              "8755               NaN  \n",
              "8756               NaN  \n",
              "8757               NaN  \n",
              "8758               NaN  \n",
              "8759               NaN  \n",
              "\n",
              "[8760 rows x 9 columns]"
            ]
          },
          "execution_count": 10,
          "metadata": {},
          "output_type": "execute_result"
        }
      ],
      "source": [
        "dataset"
      ]
    },
    {
      "cell_type": "code",
      "execution_count": 11,
      "metadata": {
        "colab": {
          "base_uri": "https://localhost:8080/"
        },
        "id": "L8Uf4PVr9c3g",
        "outputId": "9b888e60-d727-40ba-840e-90786c1ddd3c"
      },
      "outputs": [
        {
          "name": "stdout",
          "output_type": "stream",
          "text": [
            "<class 'pandas.core.frame.DataFrame'>\n",
            "RangeIndex: 8760 entries, 0 to 8759\n",
            "Data columns (total 9 columns):\n",
            " #   Column      Non-Null Count  Dtype  \n",
            "---  ------      --------------  -----  \n",
            " 0   SM_4        8760 non-null   float64\n",
            " 1   ST_2        8760 non-null   float64\n",
            " 2   ST_4        8760 non-null   float64\n",
            " 3   temp        2879 non-null   float64\n",
            " 4   humidity    2879 non-null   float64\n",
            " 5   precip      2879 non-null   float64\n",
            " 6   windspeed   2879 non-null   float64\n",
            " 7   cloudcover  2879 non-null   float64\n",
            " 8   conditions  2879 non-null   object \n",
            "dtypes: float64(8), object(1)\n",
            "memory usage: 616.1+ KB\n"
          ]
        }
      ],
      "source": [
        "dataset.info()"
      ]
    },
    {
      "cell_type": "code",
      "execution_count": 12,
      "metadata": {
        "id": "oGdlriRq9c3g"
      },
      "outputs": [],
      "source": [
        "dataset=dataset.dropna()"
      ]
    },
    {
      "cell_type": "code",
      "execution_count": 13,
      "metadata": {
        "colab": {
          "base_uri": "https://localhost:8080/"
        },
        "id": "pdrIx09F9c3g",
        "outputId": "54a9e586-3488-400c-94d9-2a7efed0a2fb"
      },
      "outputs": [
        {
          "name": "stdout",
          "output_type": "stream",
          "text": [
            "<class 'pandas.core.frame.DataFrame'>\n",
            "Index: 2879 entries, 0 to 2879\n",
            "Data columns (total 9 columns):\n",
            " #   Column      Non-Null Count  Dtype  \n",
            "---  ------      --------------  -----  \n",
            " 0   SM_4        2879 non-null   float64\n",
            " 1   ST_2        2879 non-null   float64\n",
            " 2   ST_4        2879 non-null   float64\n",
            " 3   temp        2879 non-null   float64\n",
            " 4   humidity    2879 non-null   float64\n",
            " 5   precip      2879 non-null   float64\n",
            " 6   windspeed   2879 non-null   float64\n",
            " 7   cloudcover  2879 non-null   float64\n",
            " 8   conditions  2879 non-null   object \n",
            "dtypes: float64(8), object(1)\n",
            "memory usage: 224.9+ KB\n"
          ]
        }
      ],
      "source": [
        "dataset.info()"
      ]
    },
    {
      "cell_type": "code",
      "execution_count": 14,
      "metadata": {
        "colab": {
          "base_uri": "https://localhost:8080/",
          "height": 423
        },
        "id": "rmacKD0b9c3g",
        "outputId": "c6e13f47-ff79-46ca-9682-b5280b69a45e"
      },
      "outputs": [
        {
          "data": {
            "text/html": [
              "<div>\n",
              "<style scoped>\n",
              "    .dataframe tbody tr th:only-of-type {\n",
              "        vertical-align: middle;\n",
              "    }\n",
              "\n",
              "    .dataframe tbody tr th {\n",
              "        vertical-align: top;\n",
              "    }\n",
              "\n",
              "    .dataframe thead th {\n",
              "        text-align: right;\n",
              "    }\n",
              "</style>\n",
              "<table border=\"1\" class=\"dataframe\">\n",
              "  <thead>\n",
              "    <tr style=\"text-align: right;\">\n",
              "      <th></th>\n",
              "      <th>SM_4</th>\n",
              "      <th>ST_2</th>\n",
              "      <th>ST_4</th>\n",
              "      <th>temp</th>\n",
              "      <th>humidity</th>\n",
              "      <th>precip</th>\n",
              "      <th>windspeed</th>\n",
              "      <th>cloudcover</th>\n",
              "      <th>conditions</th>\n",
              "    </tr>\n",
              "  </thead>\n",
              "  <tbody>\n",
              "    <tr>\n",
              "      <th>0</th>\n",
              "      <td>35.9</td>\n",
              "      <td>15.9</td>\n",
              "      <td>15.5</td>\n",
              "      <td>21.6</td>\n",
              "      <td>84.50</td>\n",
              "      <td>0.0</td>\n",
              "      <td>22.3</td>\n",
              "      <td>100.0</td>\n",
              "      <td>Overcast</td>\n",
              "    </tr>\n",
              "    <tr>\n",
              "      <th>1</th>\n",
              "      <td>36.0</td>\n",
              "      <td>16.0</td>\n",
              "      <td>15.6</td>\n",
              "      <td>21.6</td>\n",
              "      <td>84.97</td>\n",
              "      <td>0.0</td>\n",
              "      <td>27.7</td>\n",
              "      <td>91.7</td>\n",
              "      <td>Overcast</td>\n",
              "    </tr>\n",
              "    <tr>\n",
              "      <th>2</th>\n",
              "      <td>36.0</td>\n",
              "      <td>16.0</td>\n",
              "      <td>15.6</td>\n",
              "      <td>21.2</td>\n",
              "      <td>86.87</td>\n",
              "      <td>0.0</td>\n",
              "      <td>22.8</td>\n",
              "      <td>62.7</td>\n",
              "      <td>Partially cloudy</td>\n",
              "    </tr>\n",
              "    <tr>\n",
              "      <th>3</th>\n",
              "      <td>35.8</td>\n",
              "      <td>16.1</td>\n",
              "      <td>15.7</td>\n",
              "      <td>21.2</td>\n",
              "      <td>86.66</td>\n",
              "      <td>0.0</td>\n",
              "      <td>22.8</td>\n",
              "      <td>91.7</td>\n",
              "      <td>Overcast</td>\n",
              "    </tr>\n",
              "    <tr>\n",
              "      <th>4</th>\n",
              "      <td>35.9</td>\n",
              "      <td>16.2</td>\n",
              "      <td>15.7</td>\n",
              "      <td>21.6</td>\n",
              "      <td>84.50</td>\n",
              "      <td>0.0</td>\n",
              "      <td>19.8</td>\n",
              "      <td>100.0</td>\n",
              "      <td>Overcast</td>\n",
              "    </tr>\n",
              "    <tr>\n",
              "      <th>...</th>\n",
              "      <td>...</td>\n",
              "      <td>...</td>\n",
              "      <td>...</td>\n",
              "      <td>...</td>\n",
              "      <td>...</td>\n",
              "      <td>...</td>\n",
              "      <td>...</td>\n",
              "      <td>...</td>\n",
              "      <td>...</td>\n",
              "    </tr>\n",
              "    <tr>\n",
              "      <th>2875</th>\n",
              "      <td>23.4</td>\n",
              "      <td>19.4</td>\n",
              "      <td>18.9</td>\n",
              "      <td>24.7</td>\n",
              "      <td>64.43</td>\n",
              "      <td>0.0</td>\n",
              "      <td>10.6</td>\n",
              "      <td>87.7</td>\n",
              "      <td>Partially cloudy</td>\n",
              "    </tr>\n",
              "    <tr>\n",
              "      <th>2876</th>\n",
              "      <td>23.5</td>\n",
              "      <td>19.1</td>\n",
              "      <td>18.8</td>\n",
              "      <td>22.6</td>\n",
              "      <td>73.48</td>\n",
              "      <td>0.0</td>\n",
              "      <td>3.4</td>\n",
              "      <td>35.5</td>\n",
              "      <td>Partially cloudy</td>\n",
              "    </tr>\n",
              "    <tr>\n",
              "      <th>2877</th>\n",
              "      <td>23.4</td>\n",
              "      <td>18.9</td>\n",
              "      <td>18.7</td>\n",
              "      <td>22.0</td>\n",
              "      <td>77.15</td>\n",
              "      <td>0.0</td>\n",
              "      <td>18.6</td>\n",
              "      <td>49.4</td>\n",
              "      <td>Partially cloudy</td>\n",
              "    </tr>\n",
              "    <tr>\n",
              "      <th>2878</th>\n",
              "      <td>23.4</td>\n",
              "      <td>18.7</td>\n",
              "      <td>18.6</td>\n",
              "      <td>20.3</td>\n",
              "      <td>82.27</td>\n",
              "      <td>0.0</td>\n",
              "      <td>16.5</td>\n",
              "      <td>24.8</td>\n",
              "      <td>Partially cloudy</td>\n",
              "    </tr>\n",
              "    <tr>\n",
              "      <th>2879</th>\n",
              "      <td>23.4</td>\n",
              "      <td>18.6</td>\n",
              "      <td>18.5</td>\n",
              "      <td>19.7</td>\n",
              "      <td>85.41</td>\n",
              "      <td>0.0</td>\n",
              "      <td>15.3</td>\n",
              "      <td>7.8</td>\n",
              "      <td>Clear</td>\n",
              "    </tr>\n",
              "  </tbody>\n",
              "</table>\n",
              "<p>2879 rows × 9 columns</p>\n",
              "</div>"
            ],
            "text/plain": [
              "      SM_4  ST_2  ST_4  temp  humidity  precip  windspeed  cloudcover  \\\n",
              "0     35.9  15.9  15.5  21.6     84.50     0.0       22.3       100.0   \n",
              "1     36.0  16.0  15.6  21.6     84.97     0.0       27.7        91.7   \n",
              "2     36.0  16.0  15.6  21.2     86.87     0.0       22.8        62.7   \n",
              "3     35.8  16.1  15.7  21.2     86.66     0.0       22.8        91.7   \n",
              "4     35.9  16.2  15.7  21.6     84.50     0.0       19.8       100.0   \n",
              "...    ...   ...   ...   ...       ...     ...        ...         ...   \n",
              "2875  23.4  19.4  18.9  24.7     64.43     0.0       10.6        87.7   \n",
              "2876  23.5  19.1  18.8  22.6     73.48     0.0        3.4        35.5   \n",
              "2877  23.4  18.9  18.7  22.0     77.15     0.0       18.6        49.4   \n",
              "2878  23.4  18.7  18.6  20.3     82.27     0.0       16.5        24.8   \n",
              "2879  23.4  18.6  18.5  19.7     85.41     0.0       15.3         7.8   \n",
              "\n",
              "            conditions  \n",
              "0             Overcast  \n",
              "1             Overcast  \n",
              "2     Partially cloudy  \n",
              "3             Overcast  \n",
              "4             Overcast  \n",
              "...                ...  \n",
              "2875  Partially cloudy  \n",
              "2876  Partially cloudy  \n",
              "2877  Partially cloudy  \n",
              "2878  Partially cloudy  \n",
              "2879             Clear  \n",
              "\n",
              "[2879 rows x 9 columns]"
            ]
          },
          "execution_count": 14,
          "metadata": {},
          "output_type": "execute_result"
        }
      ],
      "source": [
        "dataset"
      ]
    },
    {
      "cell_type": "code",
      "execution_count": 15,
      "metadata": {
        "colab": {
          "base_uri": "https://localhost:8080/"
        },
        "id": "4LS-omuT9c3g",
        "outputId": "f98f14d9-e2de-4a68-ee67-dc7afc2a26c3"
      },
      "outputs": [
        {
          "data": {
            "text/plain": [
              "array([[15.9, 15.5, 21.6, ..., 22.3, 100.0, 'Overcast'],\n",
              "       [16.0, 15.6, 21.6, ..., 27.7, 91.7, 'Overcast'],\n",
              "       [16.0, 15.6, 21.2, ..., 22.8, 62.7, 'Partially cloudy'],\n",
              "       ...,\n",
              "       [18.9, 18.7, 22.0, ..., 18.6, 49.4, 'Partially cloudy'],\n",
              "       [18.7, 18.6, 20.3, ..., 16.5, 24.8, 'Partially cloudy'],\n",
              "       [18.6, 18.5, 19.7, ..., 15.3, 7.8, 'Clear']], dtype=object)"
            ]
          },
          "execution_count": 15,
          "metadata": {},
          "output_type": "execute_result"
        }
      ],
      "source": [
        "X_train=dataset.iloc[:,1:].values\n",
        "X_train"
      ]
    },
    {
      "cell_type": "code",
      "execution_count": 16,
      "metadata": {
        "colab": {
          "base_uri": "https://localhost:8080/"
        },
        "id": "DFExooBU9c3g",
        "outputId": "9ab46a7e-b91b-4e95-c031-05358367769c"
      },
      "outputs": [
        {
          "data": {
            "text/plain": [
              "array([35.9, 36. , 36. , ..., 23.4, 23.4, 23.4])"
            ]
          },
          "execution_count": 16,
          "metadata": {},
          "output_type": "execute_result"
        }
      ],
      "source": [
        "y_train=dataset.iloc[:,0].values\n",
        "y_train"
      ]
    },
    {
      "cell_type": "code",
      "execution_count": 17,
      "metadata": {
        "colab": {
          "base_uri": "https://localhost:8080/"
        },
        "id": "EhkwCeEG9c3h",
        "outputId": "c91a9cc9-441c-48f4-8dfa-1d62e7ce16cd"
      },
      "outputs": [
        {
          "data": {
            "text/plain": [
              "array([[0.0, 1.0, 0.0, ..., 0.0, 22.3, 100.0],\n",
              "       [0.0, 1.0, 0.0, ..., 0.0, 27.7, 91.7],\n",
              "       [0.0, 0.0, 1.0, ..., 0.0, 22.8, 62.7],\n",
              "       ...,\n",
              "       [0.0, 0.0, 1.0, ..., 0.0, 18.6, 49.4],\n",
              "       [0.0, 0.0, 1.0, ..., 0.0, 16.5, 24.8],\n",
              "       [1.0, 0.0, 0.0, ..., 0.0, 15.3, 7.8]], dtype=object)"
            ]
          },
          "execution_count": 17,
          "metadata": {},
          "output_type": "execute_result"
        }
      ],
      "source": [
        "\"\"\" taking care of categorical data in conditions column \"\"\"\n",
        "from sklearn.compose import  ColumnTransformer\n",
        "from sklearn.preprocessing import  OneHotEncoder\n",
        "ct = ColumnTransformer(transformers=[('encoder', OneHotEncoder(), [-1])], remainder='passthrough')\n",
        "X_train = np.array(ct.fit_transform(X_train))\n",
        "X_train"
      ]
    },
    {
      "cell_type": "code",
      "execution_count": 18,
      "metadata": {
        "colab": {
          "base_uri": "https://localhost:8080/"
        },
        "id": "_E5DsEll9c3h",
        "outputId": "4bf77978-eb93-46d7-8180-f2dc6ef47da2"
      },
      "outputs": [
        {
          "data": {
            "text/plain": [
              "(2879, 15)"
            ]
          },
          "execution_count": 18,
          "metadata": {},
          "output_type": "execute_result"
        }
      ],
      "source": [
        "X_train.shape"
      ]
    },
    {
      "cell_type": "code",
      "execution_count": 19,
      "metadata": {
        "colab": {
          "base_uri": "https://localhost:8080/"
        },
        "id": "O1WLdbV79c3h",
        "outputId": "7f3d4cb1-59c2-4e76-9346-4fc8087e2ae4"
      },
      "outputs": [
        {
          "data": {
            "text/plain": [
              "(2879,)"
            ]
          },
          "execution_count": 19,
          "metadata": {},
          "output_type": "execute_result"
        }
      ],
      "source": [
        "y_train.shape"
      ]
    },
    {
      "cell_type": "code",
      "execution_count": 20,
      "metadata": {
        "colab": {
          "base_uri": "https://localhost:8080/"
        },
        "id": "RhIsOKrl9c3h",
        "outputId": "5f5cb870-8303-41bd-a736-e82bea9a9413"
      },
      "outputs": [
        {
          "data": {
            "text/plain": [
              "array([0.0, 1.0, 0.0, 0.0, 0.0, 0.0, 0.0, 0.0, 15.9, 15.5, 21.6, 84.5,\n",
              "       0.0, 22.3, 100.0], dtype=object)"
            ]
          },
          "execution_count": 20,
          "metadata": {},
          "output_type": "execute_result"
        }
      ],
      "source": [
        "X_train[0]"
      ]
    },
    {
      "cell_type": "code",
      "execution_count": 21,
      "metadata": {
        "colab": {
          "base_uri": "https://localhost:8080/"
        },
        "id": "ojNfMQfT9c3h",
        "outputId": "1c18cbac-4698-4297-c0b9-4128663afae4"
      },
      "outputs": [
        {
          "data": {
            "text/plain": [
              "array([0.0, 1.0, 0.0, 0.0, 0.0, 0.0, 0.0, 0.0, 0.7382198952879583,\n",
              "       0.7654320987654322, 0.8179347826086958, 0.8197464821490872, 0.0,\n",
              "       0.4684873949579832, 1.0], dtype=object)"
            ]
          },
          "execution_count": 21,
          "metadata": {},
          "output_type": "execute_result"
        }
      ],
      "source": [
        "\"\"\" Standard Scaling data \"\"\"\n",
        "from sklearn.preprocessing import MinMaxScaler\n",
        "sc=MinMaxScaler()\n",
        "X_train[:,8:]=sc.fit_transform(X_train[:,8:])\n",
        "X_train[0]"
      ]
    },
    {
      "cell_type": "code",
      "execution_count": 22,
      "metadata": {
        "colab": {
          "base_uri": "https://localhost:8080/"
        },
        "id": "OSE8famf9c3h",
        "outputId": "65d0ffa3-6f4f-4a5d-c607-26ffd64367c0"
      },
      "outputs": [
        {
          "data": {
            "text/plain": [
              "array([0.0, 1.0, 0.0, 0.0, 0.0, 0.0, 0.0, 0.0, 0.7434554973821991,\n",
              "       0.771604938271605, 0.8179347826086958, 0.8252122339806954, 0.0,\n",
              "       0.5819327731092436, 0.917], dtype=object)"
            ]
          },
          "execution_count": 22,
          "metadata": {},
          "output_type": "execute_result"
        }
      ],
      "source": [
        "X_train[1]"
      ]
    },
    {
      "cell_type": "code",
      "execution_count": 23,
      "metadata": {
        "colab": {
          "base_uri": "https://localhost:8080/"
        },
        "id": "dfSQ2IjN9c3h",
        "outputId": "784cae62-3bd9-4482-c0b5-7890037beca5"
      },
      "outputs": [
        {
          "data": {
            "text/plain": [
              "array([0.0, 1.0, 0.0, 0.0, 0.0, 0.0, 0.0, 0.0, 0.7434554973821991,\n",
              "       0.771604938271605, 0.8179347826086958, 0.8252122339806954, 0.0,\n",
              "       0.5819327731092436, 0.917], dtype=object)"
            ]
          },
          "execution_count": 23,
          "metadata": {},
          "output_type": "execute_result"
        }
      ],
      "source": [
        "X_train[1]"
      ]
    },
    {
      "cell_type": "code",
      "execution_count": 24,
      "metadata": {
        "colab": {
          "base_uri": "https://localhost:8080/"
        },
        "id": "bYwC59k99c3h",
        "outputId": "493b5446-17bb-42db-a63e-c74a6e5ed952"
      },
      "outputs": [
        {
          "data": {
            "text/plain": [
              "(15,)"
            ]
          },
          "execution_count": 24,
          "metadata": {},
          "output_type": "execute_result"
        }
      ],
      "source": [
        "X_train[0].shape"
      ]
    },
    {
      "cell_type": "code",
      "execution_count": 25,
      "metadata": {
        "id": "bt6Goepy9c3h"
      },
      "outputs": [],
      "source": [
        "\"\"\" Model \"\"\"\n",
        "model=keras.Sequential(\n",
        "    [\n",
        "        keras.layers.Dense(15,activation=keras.activations.relu),\n",
        "        keras.layers.Dense(12,activation=keras.activations.relu),\n",
        "        keras.layers.Dense(8,activation=keras.activations.relu),\n",
        "        keras.layers.Dense(4,activation=keras.activations.relu),\n",
        "        keras.layers.Dense(2,activation=keras.activations.relu),\n",
        "        keras.layers.Dense(1)\n",
        "    ]\n",
        ")"
      ]
    },
    {
      "cell_type": "code",
      "execution_count": 26,
      "metadata": {
        "id": "Jw83hsOg9c3h"
      },
      "outputs": [],
      "source": [
        "model.compile(optimizer=keras.optimizers.Adam(),loss=keras.losses.mean_squared_error,metrics=keras.metrics.mean_absolute_error)"
      ]
    },
    {
      "cell_type": "code",
      "execution_count": 27,
      "metadata": {
        "id": "CmPdxKMY9c3i"
      },
      "outputs": [],
      "source": [
        "X_train=np.asarray(X_train).astype(\"float32\")\n",
        "y_train=np.asarray(y_train).astype(\"float32\")"
      ]
    },
    {
      "cell_type": "code",
      "execution_count": 28,
      "metadata": {
        "colab": {
          "base_uri": "https://localhost:8080/"
        },
        "id": "PRR_city9c3i",
        "outputId": "3a77d91f-dbb5-4743-f51f-a01b1c148207"
      },
      "outputs": [
        {
          "data": {
            "text/plain": [
              "array([0.        , 1.        , 0.        , 0.        , 0.        ,\n",
              "       0.        , 0.        , 0.        , 0.7382199 , 0.7654321 ,\n",
              "       0.8179348 , 0.8197465 , 0.        , 0.46848738, 1.        ],\n",
              "      dtype=float32)"
            ]
          },
          "execution_count": 28,
          "metadata": {},
          "output_type": "execute_result"
        }
      ],
      "source": [
        "X_train[0]"
      ]
    },
    {
      "cell_type": "code",
      "execution_count": 29,
      "metadata": {
        "colab": {
          "base_uri": "https://localhost:8080/"
        },
        "id": "7LeFT5G_9c3i",
        "outputId": "81b15a0a-b223-4517-899a-650456e116aa"
      },
      "outputs": [
        {
          "name": "stdout",
          "output_type": "stream",
          "text": [
            "Epoch 1/10\n",
            "90/90 [==============================] - 1s 950us/step - loss: 1168.7410 - mean_absolute_error: 34.0061\n",
            "Epoch 2/10\n",
            "90/90 [==============================] - 0s 871us/step - loss: 453.2636 - mean_absolute_error: 18.4040\n",
            "Epoch 3/10\n",
            "90/90 [==============================] - 0s 899us/step - loss: 47.4278 - mean_absolute_error: 5.5441\n",
            "Epoch 4/10\n",
            "90/90 [==============================] - 0s 905us/step - loss: 31.6761 - mean_absolute_error: 4.3465\n",
            "Epoch 5/10\n",
            "90/90 [==============================] - 0s 892us/step - loss: 19.5495 - mean_absolute_error: 3.2461\n",
            "Epoch 6/10\n",
            "90/90 [==============================] - 0s 882us/step - loss: 13.7641 - mean_absolute_error: 2.7382\n",
            "Epoch 7/10\n",
            "90/90 [==============================] - 0s 905us/step - loss: 11.4230 - mean_absolute_error: 2.5459\n",
            "Epoch 8/10\n",
            "90/90 [==============================] - 0s 894us/step - loss: 10.4562 - mean_absolute_error: 2.4810\n",
            "Epoch 9/10\n",
            "90/90 [==============================] - 0s 1ms/step - loss: 9.9296 - mean_absolute_error: 2.4229\n",
            "Epoch 10/10\n",
            "90/90 [==============================] - 0s 1ms/step - loss: 9.6503 - mean_absolute_error: 2.3890\n",
            "Model: \"sequential\"\n",
            "_________________________________________________________________\n",
            " Layer (type)                Output Shape              Param #   \n",
            "=================================================================\n",
            " dense (Dense)               (None, 15)                240       \n",
            "                                                                 \n",
            " dense_1 (Dense)             (None, 12)                192       \n",
            "                                                                 \n",
            " dense_2 (Dense)             (None, 8)                 104       \n",
            "                                                                 \n",
            " dense_3 (Dense)             (None, 4)                 36        \n",
            "                                                                 \n",
            " dense_4 (Dense)             (None, 2)                 10        \n",
            "                                                                 \n",
            " dense_5 (Dense)             (None, 1)                 3         \n",
            "                                                                 \n",
            "=================================================================\n",
            "Total params: 585 (2.29 KB)\n",
            "Trainable params: 585 (2.29 KB)\n",
            "Non-trainable params: 0 (0.00 Byte)\n",
            "_________________________________________________________________\n"
          ]
        }
      ],
      "source": [
        "history=model.fit(X_train,y_train,epochs=10)\n",
        "model.summary()"
      ]
    },
    {
      "cell_type": "code",
      "execution_count": 30,
      "metadata": {
        "colab": {
          "base_uri": "https://localhost:8080/",
          "height": 472
        },
        "id": "lwpk4EUcEX-8",
        "outputId": "007f05f1-42d2-4832-dcdf-94bf36ae64de"
      },
      "outputs": [
        {
          "data": {
            "image/png": "[encoded data removed]",
            "text/plain": [
              "<Figure size 640x480 with 1 Axes>"
            ]
          },
          "metadata": {},
          "output_type": "display_data"
        }
      ],
      "source": [
        "plt.plot(history.history['loss'])\n",
        "plt.title('Training Loss')\n",
        "plt.xlabel('Epoch')\n",
        "plt.ylabel('Loss')\n",
        "plt.show()"
      ]
    },
    {
      "cell_type": "code",
      "execution_count": 31,
      "metadata": {
        "colab": {
          "base_uri": "https://localhost:8080/"
        },
        "id": "0IMzm6N39c3i",
        "outputId": "c15bb31f-9137-4e2d-b563-03e037165d2d"
      },
      "outputs": [
        {
          "name": "stdout",
          "output_type": "stream",
          "text": [
            "90/90 [==============================] - 0s 680us/step\n"
          ]
        },
        {
          "data": {
            "text/plain": [
              "array([[37.474754],\n",
              "       [37.64462 ],\n",
              "       [34.85819 ],\n",
              "       ...,\n",
              "       [32.064117],\n",
              "       [31.543425],\n",
              "       [33.407   ]], dtype=float32)"
            ]
          },
          "execution_count": 31,
          "metadata": {},
          "output_type": "execute_result"
        }
      ],
      "source": [
        "y_pred=model.predict(X_train).reshape(-1,1)\n",
        "y_pred"
      ]
    },
    {
      "cell_type": "code",
      "execution_count": 32,
      "metadata": {
        "colab": {
          "base_uri": "https://localhost:8080/"
        },
        "id": "4ySlX7sl9c3i",
        "outputId": "546f3f03-24fe-4435-d565-b4562f52e8fd"
      },
      "outputs": [
        {
          "data": {
            "text/plain": [
              "2.4517415"
            ]
          },
          "execution_count": 32,
          "metadata": {},
          "output_type": "execute_result"
        }
      ],
      "source": [
        "from sklearn.metrics import mean_absolute_error\n",
        "mean_absolute_error(y_train,y_pred)"
      ]
    },
    {
      "cell_type": "code",
      "execution_count": 33,
      "metadata": {
        "colab": {
          "base_uri": "https://localhost:8080/"
        },
        "id": "2ZxzMrXY9c3i",
        "outputId": "4ee15219-aff4-4fbd-a342-b5f5253c3ef0"
      },
      "outputs": [
        {
          "data": {
            "text/plain": [
              "(2879, 15)"
            ]
          },
          "execution_count": 33,
          "metadata": {},
          "output_type": "execute_result"
        }
      ],
      "source": [
        "X_train.shape"
      ]
    },
    {
      "cell_type": "code",
      "execution_count": 34,
      "metadata": {
        "colab": {
          "base_uri": "https://localhost:8080/"
        },
        "id": "_ICKst9D9c3i",
        "outputId": "ccfa0a11-7c00-4ac8-b5cd-e4b35c6e40aa"
      },
      "outputs": [
        {
          "data": {
            "text/plain": [
              "(None, 15)"
            ]
          },
          "execution_count": 34,
          "metadata": {},
          "output_type": "execute_result"
        }
      ],
      "source": [
        "model.input_shape"
      ]
    },
    {
      "cell_type": "code",
      "execution_count": 35,
      "metadata": {
        "id": "VmYntlrn9c3i"
      },
      "outputs": [],
      "source": [
        "to_predit=X_train[0].reshape(-1,X_train.shape[1])"
      ]
    },
    {
      "cell_type": "code",
      "execution_count": 36,
      "metadata": {
        "colab": {
          "base_uri": "https://localhost:8080/"
        },
        "id": "CTvMwxsp9c3i",
        "outputId": "fdd82cd3-16c2-40c0-8b83-14ab57d493aa"
      },
      "outputs": [
        {
          "name": "stdout",
          "output_type": "stream",
          "text": [
            "1/1 [==============================] - 0s 16ms/step\n"
          ]
        },
        {
          "data": {
            "text/plain": [
              "array([[37.474754]], dtype=float32)"
            ]
          },
          "execution_count": 36,
          "metadata": {},
          "output_type": "execute_result"
        }
      ],
      "source": [
        "model.predict(to_predit)"
      ]
    },
    {
      "cell_type": "code",
      "execution_count": 37,
      "metadata": {
        "colab": {
          "base_uri": "https://localhost:8080/"
        },
        "id": "AH1OtYWk9c3i",
        "outputId": "711aad71-4a1f-4829-ae66-9fef5a31afbe"
      },
      "outputs": [
        {
          "data": {
            "text/plain": [
              "35.9"
            ]
          },
          "execution_count": 37,
          "metadata": {},
          "output_type": "execute_result"
        }
      ],
      "source": [
        "y_train[0]"
      ]
    },
    {
      "cell_type": "code",
      "execution_count": 38,
      "metadata": {
        "colab": {
          "base_uri": "https://localhost:8080/"
        },
        "id": "kmXzdY3C9c3j",
        "outputId": "3ced875c-ec7d-430c-837e-1d4b59261569"
      },
      "outputs": [
        {
          "name": "stdout",
          "output_type": "stream",
          "text": [
            "1/1 [==============================] - 0s 16ms/step\n",
            "35.9  -->  [[37.474754]]\n",
            "1/1 [==============================] - 0s 13ms/step\n",
            "36.0  -->  [[37.64462]]\n",
            "1/1 [==============================] - 0s 14ms/step\n",
            "36.0  -->  [[34.85819]]\n",
            "1/1 [==============================] - 0s 14ms/step\n",
            "35.8  -->  [[37.201202]]\n",
            "1/1 [==============================] - 0s 13ms/step\n",
            "35.9  -->  [[37.167824]]\n",
            "1/1 [==============================] - 0s 14ms/step\n",
            "35.9  -->  [[36.267067]]\n",
            "1/1 [==============================] - 0s 13ms/step\n",
            "35.9  -->  [[32.871216]]\n",
            "1/1 [==============================] - 0s 16ms/step\n",
            "36.0  -->  [[34.310993]]\n",
            "1/1 [==============================] - 0s 15ms/step\n",
            "35.8  -->  [[36.72922]]\n",
            "1/1 [==============================] - 0s 15ms/step\n",
            "35.8  -->  [[37.429527]]\n",
            "1/1 [==============================] - 0s 16ms/step\n",
            "35.7  -->  [[37.52668]]\n",
            "1/1 [==============================] - 0s 15ms/step\n",
            "35.5  -->  [[37.92322]]\n",
            "1/1 [==============================] - 0s 16ms/step\n",
            "35.4  -->  [[37.243122]]\n",
            "1/1 [==============================] - 0s 16ms/step\n",
            "35.5  -->  [[34.168564]]\n",
            "1/1 [==============================] - 0s 16ms/step\n",
            "35.4  -->  [[34.39373]]\n",
            "1/1 [==============================] - 0s 14ms/step\n",
            "35.5  -->  [[37.018387]]\n",
            "1/1 [==============================] - 0s 13ms/step\n",
            "35.4  -->  [[34.177948]]\n",
            "1/1 [==============================] - 0s 16ms/step\n",
            "35.4  -->  [[36.58386]]\n",
            "1/1 [==============================] - 0s 15ms/step\n",
            "35.4  -->  [[38.273552]]\n",
            "1/1 [==============================] - 0s 15ms/step\n",
            "42.2  -->  [[35.995655]]\n",
            "1/1 [==============================] - 0s 15ms/step\n",
            "44.0  -->  [[46.528877]]\n",
            "1/1 [==============================] - 0s 16ms/step\n",
            "42.1  -->  [[39.308113]]\n",
            "1/1 [==============================] - 0s 13ms/step\n",
            "43.8  -->  [[38.73826]]\n",
            "1/1 [==============================] - 0s 14ms/step\n",
            "41.1  -->  [[36.737904]]\n",
            "1/1 [==============================] - 0s 14ms/step\n",
            "40.5  -->  [[36.949646]]\n",
            "1/1 [==============================] - 0s 14ms/step\n",
            "39.7  -->  [[36.045338]]\n",
            "1/1 [==============================] - 0s 14ms/step\n",
            "39.4  -->  [[36.152813]]\n",
            "1/1 [==============================] - 0s 13ms/step\n",
            "39.1  -->  [[36.042255]]\n",
            "1/1 [==============================] - 0s 13ms/step\n",
            "38.8  -->  [[35.633682]]\n",
            "1/1 [==============================] - 0s 13ms/step\n",
            "38.6  -->  [[36.227615]]\n",
            "1/1 [==============================] - 0s 13ms/step\n",
            "38.4  -->  [[35.849575]]\n",
            "1/1 [==============================] - 0s 13ms/step\n",
            "38.3  -->  [[36.167194]]\n",
            "1/1 [==============================] - 0s 13ms/step\n",
            "38.2  -->  [[36.07282]]\n",
            "1/1 [==============================] - 0s 13ms/step\n",
            "38.0  -->  [[36.157085]]\n",
            "1/1 [==============================] - 0s 14ms/step\n",
            "38.0  -->  [[36.44435]]\n",
            "1/1 [==============================] - 0s 14ms/step\n",
            "37.7  -->  [[36.61342]]\n",
            "1/1 [==============================] - 0s 14ms/step\n",
            "37.6  -->  [[35.9183]]\n",
            "1/1 [==============================] - 0s 14ms/step\n",
            "37.5  -->  [[35.953167]]\n",
            "1/1 [==============================] - 0s 14ms/step\n",
            "37.3  -->  [[35.798214]]\n",
            "1/1 [==============================] - 0s 15ms/step\n",
            "37.5  -->  [[35.743782]]\n",
            "1/1 [==============================] - 0s 16ms/step\n",
            "37.2  -->  [[35.37287]]\n",
            "1/1 [==============================] - 0s 16ms/step\n",
            "37.2  -->  [[35.273586]]\n",
            "1/1 [==============================] - 0s 15ms/step\n",
            "37.1  -->  [[35.910675]]\n",
            "1/1 [==============================] - 0s 14ms/step\n",
            "37.3  -->  [[35.801643]]\n",
            "1/1 [==============================] - 0s 13ms/step\n",
            "38.1  -->  [[35.918346]]\n",
            "1/1 [==============================] - 0s 14ms/step\n",
            "39.9  -->  [[38.04884]]\n",
            "1/1 [==============================] - 0s 14ms/step\n",
            "39.7  -->  [[36.77952]]\n",
            "1/1 [==============================] - 0s 14ms/step\n",
            "39.5  -->  [[37.780807]]\n",
            "1/1 [==============================] - 0s 13ms/step\n",
            "39.2  -->  [[37.75149]]\n",
            "1/1 [==============================] - 0s 14ms/step\n",
            "39.1  -->  [[37.26297]]\n",
            "1/1 [==============================] - 0s 16ms/step\n",
            "38.9  -->  [[37.23161]]\n",
            "1/1 [==============================] - 0s 15ms/step\n",
            "38.9  -->  [[35.02008]]\n",
            "1/1 [==============================] - 0s 15ms/step\n",
            "38.8  -->  [[35.73019]]\n",
            "1/1 [==============================] - 0s 15ms/step\n",
            "38.9  -->  [[35.867626]]\n",
            "1/1 [==============================] - 0s 15ms/step\n",
            "38.8  -->  [[35.6601]]\n",
            "1/1 [==============================] - 0s 16ms/step\n",
            "38.8  -->  [[34.979023]]\n",
            "1/1 [==============================] - 0s 16ms/step\n",
            "38.8  -->  [[34.659615]]\n",
            "1/1 [==============================] - 0s 15ms/step\n",
            "38.8  -->  [[34.383705]]\n",
            "1/1 [==============================] - 0s 16ms/step\n",
            "38.8  -->  [[34.105453]]\n",
            "1/1 [==============================] - 0s 16ms/step\n",
            "38.6  -->  [[33.840687]]\n",
            "1/1 [==============================] - 0s 15ms/step\n",
            "38.6  -->  [[35.993057]]\n",
            "1/1 [==============================] - 0s 15ms/step\n",
            "38.6  -->  [[35.483253]]\n",
            "1/1 [==============================] - 0s 16ms/step\n",
            "38.6  -->  [[34.995132]]\n",
            "1/1 [==============================] - 0s 16ms/step\n",
            "38.6  -->  [[35.13813]]\n",
            "1/1 [==============================] - 0s 16ms/step\n",
            "38.5  -->  [[35.081757]]\n",
            "1/1 [==============================] - 0s 15ms/step\n",
            "38.5  -->  [[35.24397]]\n",
            "1/1 [==============================] - 0s 16ms/step\n",
            "38.3  -->  [[33.62021]]\n",
            "1/1 [==============================] - 0s 17ms/step\n",
            "38.5  -->  [[33.507587]]\n",
            "1/1 [==============================] - 0s 13ms/step\n",
            "38.3  -->  [[33.597008]]\n",
            "1/1 [==============================] - 0s 16ms/step\n",
            "38.4  -->  [[33.04849]]\n",
            "1/1 [==============================] - 0s 16ms/step\n",
            "38.4  -->  [[34.339325]]\n",
            "1/1 [==============================] - 0s 17ms/step\n",
            "38.4  -->  [[34.552067]]\n",
            "1/1 [==============================] - 0s 14ms/step\n",
            "38.4  -->  [[34.651176]]\n",
            "1/1 [==============================] - 0s 15ms/step\n",
            "38.4  -->  [[34.36809]]\n",
            "1/1 [==============================] - 0s 13ms/step\n",
            "38.4  -->  [[34.476894]]\n",
            "1/1 [==============================] - 0s 14ms/step\n",
            "38.4  -->  [[34.501957]]\n",
            "1/1 [==============================] - 0s 14ms/step\n",
            "38.3  -->  [[32.819103]]\n",
            "1/1 [==============================] - 0s 15ms/step\n",
            "38.2  -->  [[33.196037]]\n",
            "1/1 [==============================] - 0s 13ms/step\n",
            "38.2  -->  [[35.099514]]\n",
            "1/1 [==============================] - 0s 13ms/step\n",
            "38.0  -->  [[33.642696]]\n",
            "1/1 [==============================] - 0s 14ms/step\n",
            "38.0  -->  [[35.004665]]\n",
            "1/1 [==============================] - 0s 15ms/step\n",
            "38.0  -->  [[35.326584]]\n",
            "1/1 [==============================] - 0s 15ms/step\n",
            "37.9  -->  [[34.903046]]\n",
            "1/1 [==============================] - 0s 18ms/step\n",
            "37.9  -->  [[35.29101]]\n",
            "1/1 [==============================] - 0s 16ms/step\n",
            "37.7  -->  [[35.327118]]\n",
            "1/1 [==============================] - 0s 15ms/step\n",
            "37.7  -->  [[33.449276]]\n",
            "1/1 [==============================] - 0s 15ms/step\n",
            "37.7  -->  [[35.6831]]\n",
            "1/1 [==============================] - 0s 15ms/step\n",
            "37.7  -->  [[35.665462]]\n",
            "1/1 [==============================] - 0s 15ms/step\n",
            "38.0  -->  [[35.207607]]\n",
            "1/1 [==============================] - 0s 15ms/step\n",
            "39.1  -->  [[35.138454]]\n",
            "1/1 [==============================] - 0s 16ms/step\n",
            "39.3  -->  [[35.870163]]\n",
            "1/1 [==============================] - 0s 14ms/step\n",
            "39.3  -->  [[36.060333]]\n",
            "1/1 [==============================] - 0s 15ms/step\n",
            "39.4  -->  [[35.162315]]\n",
            "1/1 [==============================] - 0s 15ms/step\n",
            "39.4  -->  [[34.400414]]\n",
            "1/1 [==============================] - 0s 15ms/step\n",
            "39.6  -->  [[34.686386]]\n",
            "1/1 [==============================] - 0s 15ms/step\n",
            "39.7  -->  [[34.674236]]\n",
            "1/1 [==============================] - 0s 15ms/step\n",
            "39.7  -->  [[37.08814]]\n",
            "1/1 [==============================] - 0s 13ms/step\n",
            "39.7  -->  [[36.352528]]\n",
            "1/1 [==============================] - 0s 14ms/step\n",
            "39.7  -->  [[35.343197]]\n",
            "1/1 [==============================] - 0s 13ms/step\n",
            "39.5  -->  [[36.710587]]\n"
          ]
        }
      ],
      "source": [
        "for idx in range(100):\n",
        "    to_predit=X_train[idx].reshape(-1,X_train.shape[1])\n",
        "    print(y_train[idx],\" --> \", model.predict(to_predit))"
      ]
    },
    {
      "cell_type": "code",
      "execution_count": 39,
      "metadata": {
        "id": "7CcU3wzu9c3j"
      },
      "outputs": [
        {
          "name": "stderr",
          "output_type": "stream",
          "text": [
            "c:\\Users\\ganes\\AppData\\Local\\Programs\\Python\\Python311\\Lib\\site-packages\\keras\\src\\engine\\training.py:3079: UserWarning: You are saving your model as an HDF5 file via `model.save()`. This file format is considered legacy. We recommend using instead the native Keras format, e.g. `model.save('my_model.keras')`.\n",
            "  saving_api.save_model(\n"
          ]
        }
      ],
      "source": [
        "prototype=model.save(filepath=\"zeus.h5\")"
      ]
    }
  ],
  "metadata": {
    "accelerator": "GPU",
    "colab": {
      "gpuType": "T4",
      "provenance": []
    },
    "kernelspec": {
      "display_name": "Python 3",
      "name": "python3"
    },
    "language_info": {
      "codemirror_mode": {
        "name": "ipython",
        "version": 3
      },
      "file_extension": ".py",
      "mimetype": "text/x-python",
      "name": "python",
      "nbconvert_exporter": "python",
      "pygments_lexer": "ipython3",
      "version": "3.11.6"
    }
  },
  "nbformat": 4,
  "nbformat_minor": 0
}
